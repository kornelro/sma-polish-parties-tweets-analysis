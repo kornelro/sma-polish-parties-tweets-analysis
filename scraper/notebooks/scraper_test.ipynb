{
 "metadata": {
  "language_info": {
   "codemirror_mode": {
    "name": "ipython",
    "version": 3
   },
   "file_extension": ".py",
   "mimetype": "text/x-python",
   "name": "python",
   "nbconvert_exporter": "python",
   "pygments_lexer": "ipython3",
   "version": "3.8.5-final"
  },
  "orig_nbformat": 2,
  "kernelspec": {
   "name": "python3",
   "display_name": "Python 3"
  }
 },
 "nbformat": 4,
 "nbformat_minor": 2,
 "cells": [
  {
   "cell_type": "code",
   "execution_count": 1,
   "metadata": {},
   "outputs": [],
   "source": [
    "import pandas as pd\n",
    "import twint\n",
    "import nest_asyncio\n",
    "nest_asyncio.apply()"
   ]
  },
  {
   "cell_type": "code",
   "execution_count": 2,
   "metadata": {},
   "outputs": [
    {
     "output_type": "execute_result",
     "data": {
      "text/plain": [
       "'3.6.12'"
      ]
     },
     "metadata": {},
     "execution_count": 2
    }
   ],
   "source": [
    "import platform\n",
    "platform.python_version()"
   ]
  },
  {
   "cell_type": "code",
   "execution_count": 3,
   "metadata": {},
   "outputs": [
    {
     "output_type": "execute_result",
     "data": {
      "text/plain": [
       "'/home/work'"
      ]
     },
     "metadata": {},
     "execution_count": 3
    }
   ],
   "source": [
    "import os\n",
    "os.getcwd()"
   ]
  },
  {
   "source": [
    "## TWEETS"
   ],
   "cell_type": "markdown",
   "metadata": {}
  },
  {
   "cell_type": "code",
   "execution_count": 4,
   "metadata": {},
   "outputs": [],
   "source": [
    "c = twint.Config()\n",
    "c.Username = \"pisorgpl\"\n",
    "c.Since = \"2020-01-01 00:00:00\"\n",
    "c.Hide_output = True\n",
    "c.Output = (\"./pisorgpl_tweets.csv\")"
   ]
  },
  {
   "cell_type": "code",
   "execution_count": 5,
   "metadata": {
    "tags": []
   },
   "outputs": [
    {
     "output_type": "stream",
     "name": "stdout",
     "text": [
      "No more data. finished scraping!! is it though? because sometimes twitter lie.\n"
     ]
    }
   ],
   "source": [
    "twint.run.Search(c)"
   ]
  },
  {
   "source": [
    "## FULL PROFILE - TWEETS AND RETWEETS"
   ],
   "cell_type": "markdown",
   "metadata": {}
  },
  {
   "cell_type": "code",
   "execution_count": 29,
   "metadata": {},
   "outputs": [],
   "source": [
    "c = twint.Config()\n",
    "c.Username = \"pisorgpl\"\n",
    "c.Retweets = True\n",
    "c.Store_csv = True\n",
    "c.Output = (\"./pisorgpl_profile.csv\")\n",
    "c.Since = '2020-09-01'"
   ]
  },
  {
   "cell_type": "code",
   "execution_count": 30,
   "metadata": {
    "tags": [
     "outputPrepend"
    ]
   },
   "outputs": [
    {
     "output_type": "stream",
     "name": "stdout",
     "text": [
      "//t.co/4iDOYMyPpz\n",
      "1301465106698690561 2020-09-03 10:20:36 +0000 <pisorgpl> Minister @MEN_GOV_PL @D_Piontkowski w #Warszawa: Dziękuję dyrektorom, że znając swoje placówki, potrafili stworzyć przepisy pozwalające bezpiecznie i w sposób zorganizowany wrócić dzieciom do szkoły.\n",
      "1301464918227648513 2020-09-03 10:19:51 +0000 <pisorgpl> Minister @MEN_GOV_PL @D_Piontkowski w #Warszawa: Przygotowane wytyczne musiały być na tyle elastyczne, aby dyrektorzy mogli dopasować je do warunków panujących w konkretnej szkole i do stanu zagrożenia epidemicznego. Znaczna większość dyrektorów poradziła sobie bardzo dobrze.\n",
      "1301464055035682817 2020-09-03 10:16:25 +0000 <pisorgpl> Prezes #PiS J. #Kaczyński, Marszałek #Sejm @elzbietawitek, Minister @MON_GOV_PL @mblaszczak, Przewodniczący Komitetu Wykonawczego PiS K. #Sobolewski (@AC_Sobol) biorą udział w nadaniu sali Głównej Biblioteki Lekarskiej im. Kapitana Żeglugi Wielkiej inż. Zbigniewa Sulatyckiego. https://t.co/IlcbqrlAdW\n",
      "1301430498896551936 2020-09-03 08:03:05 +0000 <pisorgpl> RT @MZ_GOV_PL: 📊 Dzienny raport o #koronawirus. https://t.co/BvW0oe3yXj\n",
      "1301423369271869441 2020-09-03 07:34:45 +0000 <pisorgpl> RT @PremierRP: Premier @MorawieckiM podczas spotkania z przedsiębiorcami na @EECKatowice: Dla rządu priorytetem było ratowanie gospodarki.…\n",
      "1301225219118510080 2020-09-02 18:27:22 +0000 <pisorgpl> Politycy #PiS jutro (3.09) w mediach: 09:20 @tvp_info - @radekfogiel 10:00 @wPolscepl - @MarlenaMalag\n",
      "1301224039399206913 2020-09-02 18:22:41 +0000 <pisorgpl> Politycy #PiS jutro (3.09) w mediach: 07:15 @PR24_pl - @radekfogiel 07:15 @RadiowaJedynka - T.#Kościński 07:25 @tvp_info - @mareksuski 07:55 @RepublikaTV - @MarlenaMalag 08:00 @rmf_fm -  @SasinJacek  08:06 @PR24_pl - @piotr_kaleta_  08:10 @tvp_info - @W_Bernacki\n",
      "1301164975487098880 2020-09-02 14:27:59 +0000 <pisorgpl> RT @MRPiPS_GOV_PL: #DobryStart: przyznano już ponad 3 mln świadczeń. #Rodzina https://t.co/B3M0YQ6cFT\n",
      "1301150797061926912 2020-09-02 13:31:38 +0000 <pisorgpl> Politycy #PiS dziś (02.09) w mediach: 19:50 @PolsatNewsPL - @UrszulaRusecka 19:55 @tvp_info - @CzarnekP 20:10 @tvp_info - @ZbigniewKuzmiuk\n",
      "1301149373024342017 2020-09-02 13:25:59 +0000 <pisorgpl> Politycy #PiS dziś (02.09) w mediach:  17:35 @PolskieRadio24 - @ZbigniewKuzmiuk 18:10 @RadiowaJedynka - @UrszulaRusecka 18:50 @tvp_info - @sobonartur 19:00 @RepublikaTV - @JoannaLichocka  19:25 @PolsatNewsPL - @PiotrMuller 19:25 @tvn24 - @radekfogiel\n",
      "1301098136119775232 2020-09-02 10:02:23 +0000 <pisorgpl> RT @MRPiPS_GOV_PL: 🖊 W #MRPiPS podpisano umowę o partnerstwie na rzecz realizacji projektu \"Aktywni niepełnosprawni - narzędzia wsparcia sa…\n",
      "1301097369346494465 2020-09-02 09:59:20 +0000 <pisorgpl> RT @MON_GOV_PL: Do tej pory wszystkie formalności związane z rekrutacją do wojska, w tym szkolenie przygotowawcze,  trwało średnio 190 dni.…\n",
      "1301097360257359873 2020-09-02 09:59:18 +0000 <pisorgpl> RT @MON_GOV_PL: Reforma systemu rekrutacji #WojskoPolskie Szkolenie podstawowe – maksymalnie 30 dni, a nie 90. Skracamy szkolenie podstawow…\n",
      "1301097326539403265 2020-09-02 09:59:10 +0000 <pisorgpl> Minister @MON_GOV_PL @mblaszczak w #Warszawa: Wojsko Polskie jest liczebniejsze z roku na rok. Chcemy, aby było silne. Ułatwienie procesu rekrutacji to gwarancja, że Polska będzie bezpieczniejsza.\n",
      "1301096920765652998 2020-09-02 09:57:33 +0000 <pisorgpl> RT @MON_GOV_PL: Rreforma systemu rekrutacji #WojskoPolskie Już we wrześniu ruszą Wojskowe Centra Rekrutacji, czyli miejsca, w których w 1 d…\n",
      "1301096787449720832 2020-09-02 09:57:01 +0000 <pisorgpl> RT @MON_GOV_PL: Reforma systemu rekrutacji do #WojskoPolskie Portal rekrutacyjny https://t.co/2xaj2L3hl4 – oprócz tradycyjnego składania wn…\n",
      "1301096780541632512 2020-09-02 09:57:00 +0000 <pisorgpl> RT @MON_GOV_PL: Krótszy o 140 dni proces rekrutacji, możliwość aplikowania do Wojska Polskiego przez Internet, Wojskowe Centra Rekrutacji,…\n",
      "1301096657178812416 2020-09-02 09:56:30 +0000 <pisorgpl> Minister @MON_GOV_PL @mblaszczak w #Warszawa: Uruchamiamy dziś portal rekrutacyjny, gdzie kandydat znajdzie szczegółowe informacje dotyczące procesu rekrutacji.\n",
      "1301096512815013890 2020-09-02 09:55:56 +0000 <pisorgpl> Minister @MON_GOV_PL @mblaszczak w #Warszawa: Wojskowe Centra Rekrutacyjne będą organizowane doraźnie w miejscu, w którym będzie najbliżej do największej liczby kandydatów.\n",
      "1301096343939805184 2020-09-02 09:55:16 +0000 <pisorgpl> RT @MON_GOV_PL: Rozpoczęła się odprawa ministra @mblaszczak z szefami Wojewódzkich Sztabów Wojskowych podsumowująca I etap reformy systemu…\n",
      "1301096214318981121 2020-09-02 09:54:45 +0000 <pisorgpl> Minister @MON_GOV_PL @mblaszczak w #Warszawa: Reforma systemu rekrutacji do Wojska Polskiego to nasz priorytet. Uprościliśmy i skróciliśmy ten proces.\n",
      "1301083381321654274 2020-09-02 09:03:45 +0000 <pisorgpl> RT @PiotrMuller: Trwa spotkanie premiera @MorawieckiM z polskimi posłami do Parlamentu Europejskiego ws. sytuacji na Białorusi. Premier prz…\n",
      "1301077134438535169 2020-09-02 08:38:56 +0000 <pisorgpl> RT @MZ_GOV_PL: Do 10 dni skrócona zostaje obowiązkowa kwarantanna po kontakcie z osobą zakażoną. Dzisiejsze rozporządzenie Rady Ministrów d…\n",
      "1301077129283743745 2020-09-02 08:38:55 +0000 <pisorgpl> RT @MZ_GOV_PL: Zwolnienie następuje w przypadku osoby bezobjawowej po 10 dniach od pozytywnego testu przy 2 kolejnych wynikach negatywnych…\n",
      "1301077122866458625 2020-09-02 08:38:53 +0000 <pisorgpl> RT @MZ_GOV_PL: Minister Zdrowia @a_niedzielski, zgodnie z zapowiedzią, podpisał dwa rozporządzenia dotyczące nowych zasad zwalniania z izol…\n",
      "1301072472884772865 2020-09-02 08:20:24 +0000 <pisorgpl> Minister @MRPiPS_GOV_PL @MarlenaMalag w #Warszawa:  Działania na rzecz osób z niepełnosprawnościami są ważne. W tym roku to ponad 27 mld zł, to o ponad 12 mld zł więcej niż w 2015 roku.\n",
      "1301072109318344704 2020-09-02 08:18:58 +0000 <pisorgpl> RT @MRPiPS_GOV_PL: 🎥 Briefing prasowy z udziałem minister @MarlenaMalag i wiceministra @PelnomocnikON @pawel_wdowik. https://t.co/HfSzxC3ft3\n",
      "1301071839553376256 2020-09-02 08:17:53 +0000 <pisorgpl> Minister @MRPiPS_GOV_PL @MarlenaMalag w #Warszawa: Jednym z priorytetów naszego rządu jest troska o osoby niepełnosprawne.\n",
      "1301071814509113345 2020-09-02 08:17:47 +0000 <pisorgpl> RT @MRPiPS_GOV_PL: 🛡#TarczaAntykryzysowa: wspieramy przedsiębiorców i chronimy miejsca pracy. https://t.co/NambJ3TnCM\n",
      "1301070806714380288 2020-09-02 08:13:47 +0000 <pisorgpl> RT @MZ_GOV_PL: 📊 Dzienny raport o #koronawirus. https://t.co/GldRt1EDbe\n",
      "1300854198293192705 2020-09-01 17:53:04 +0000 <pisorgpl> Politycy #PiS jutro (02.09) w mediach: 7:15 @RadiowaJedynka - @PiotrMuller  7:28 @tvp_info - @marekgrobarczyk  8:06 @PR24_pl - @MariaKoc1  8:10 @tvp_info - @gontarz93  14:00 @wirtualnapolska - @D_Piontkowski\n",
      "1300803578525896704 2020-09-01 14:31:55 +0000 <pisorgpl> Politycy #PiS dziś (01.09) w mediach: 18:10 @RadiowaJedynka - @waldemar_buda 19:50 @PolsatNewsPL - @KaziSmolinski  19:55 @tvp_info  - @D_Piontkowski  20:00 @RepublikaTV  - @arekmularczyk  20:10 @tvp_info  - @lisieckipawel\n",
      "1300784636860264449 2020-09-01 13:16:39 +0000 <pisorgpl> RT @MRPiPS_GOV_PL: Działacze opozycji lub osoby represjonowane z powodów politycznych mogą:  ➡️ otrzymać finansową pomoc doraźną lub okreso…\n",
      "1300784610847141889 2020-09-01 13:16:33 +0000 <pisorgpl> RT @MZ_GOV_PL: 🗓 Od dziś obowiązują bezpłatne leki dla kobiet w ciąży 🤰  Więcej ➡️ https://t.co/EbWY70wCnm https://t.co/qZj6SzWTj9\n",
      "1300782096567472134 2020-09-01 13:06:33 +0000 <pisorgpl> Marszałek #Sejm @elzbietawitek w #Paradyż: Cieszę się, że mamy dziś w młodym pokoleniu ludzi, którzy wiedzą, że trzeba pamiętać i oddawać hołd nie tylko tym znanym z imienia i nazwiska, ale także bezimiennym bohaterom.\n",
      "1300781765989224448 2020-09-01 13:05:15 +0000 <pisorgpl> Marszałek #Sejm @elzbietawitek w #Paradyż: Ta wojna nie toczyła się tylko między armiami, ale także pomiędzy armią niemiecką, a zwykłymi ludźmi.\n",
      "1300781337431900162 2020-09-01 13:03:32 +0000 <pisorgpl> Marszałek #Sejm @elzbietawitek w #Paradyż: II wojna światowa i wrzesień 1939 to nie tylko Westerplatte i Wieluń. To także groby bezimiennych bohaterów rozsiane po całej Polsce.\n",
      "1300770236581457922 2020-09-01 12:19:26 +0000 <pisorgpl> RT @MRPiPS_GOV_PL: ➡️ Osoby z potwierdzonym statusem działacza opozycji lub osoby represjonowanej, będą mogły skorzystać z 50 proc. ulgi ta…\n",
      "1300770225525268480 2020-09-01 12:19:23 +0000 <pisorgpl> RT @MRPiPS_GOV_PL: Komu będzie przysługiwało dodatkowe świadczenie❓ #BohaterowiePodziemia https://t.co/iKmQ9FWQte\n",
      "1300770218596278273 2020-09-01 12:19:21 +0000 <pisorgpl> RT @MRPiPS_GOV_PL: 🇵🇱 #BohaterowiePodziemia otrzymają specjalne świadczenie wyrównawcze. https://t.co/vZiDLSg7jU\n",
      "1300770209029148673 2020-09-01 12:19:19 +0000 <pisorgpl> RT @MRPiPS_GOV_PL: 📊@EU_Eurostat: Polska na 2. miejscu wśród krajów #UniaEuropejska o najniższym bezrobociu. https://t.co/z6AAj6ExJ0\n",
      "1300769116224131073 2020-09-01 12:14:59 +0000 <pisorgpl> Wicepremier, Minister @MKiDN_GOV_PL @PiotrGlinski w #Gdańsk: Dzisiaj dzień szczególny, w którym mogę z dumą powiedzieć, ze jestem tu, by podziękować wszystkim, którzy przyczynili się do tego, że możemy zrealizować nasz wspólnotowy obowiązek.\n",
      "1300768757971857409 2020-09-01 12:13:33 +0000 <pisorgpl> Wicepremier, Minister @MKiDN_GOV_PL @PiotrGlinski w #Gdańsk: Dziś możemy podziękować wszystkim, którzy realizowali wartości naszej wspólnoty narodowej - obrońcom Westerplatte za Ich heroizm.\n",
      "1300763921083760640 2020-09-01 11:54:20 +0000 <pisorgpl> RT @PremierRP: Bezpieczny powrót do szkół ➡ wskazówki dla rodzica 👨‍👩‍👧‍👦 https://t.co/a4GXIjWVlE\n",
      "1300760357561143296 2020-09-01 11:40:10 +0000 <pisorgpl> RT @DanutaDmowska: Plejada najlepszych polskich 🇵🇱 sportowców wystąpiła w specjalnym spocie wyrażającym solidarność ze sportowcami i społec…\n",
      "1300760303269969925 2020-09-01 11:39:57 +0000 <pisorgpl> RT @BeataSzydlo: Dziś podczas obrad komisji EMPL otrzymałam potwierdzenie od wiceprzewodniczącej KE @dubravkasuica podjęcia przez UE aktywn…\n",
      "1300760047627141120 2020-09-01 11:38:56 +0000 <pisorgpl> RT @MEN_GOV_PL: Kilkunastu przedstawicieli uczniów szkoły w Łapach odebrało dziś od ministra edukacji legitymacje szkolne. @D_Piontkowski ż…\n",
      "1300758945351467008 2020-09-01 11:34:34 +0000 <pisorgpl> RT @MZ_GOV_PL: 📣📣📣Minister Zdrowia @a_niedzielski zdecydował, że Państwowy Egzamin Specjalizacyjny w sesji wiosennej odbędzie się w tylko w…\n",
      "1300758356613910533 2020-09-01 11:32:13 +0000 <pisorgpl> Minister w #KPRM @michaldworczyk w #Warszawa: Całość przedsięwzięcia, zarówno docelowe rozwiązanie jak i tymczasowe, to odpowiedzialność miasta.\n",
      "1300758027067424769 2020-09-01 11:30:55 +0000 <pisorgpl> Minister w #KPRM @michaldworczyk w #Warszawa: Ustaliliśmy, że rząd udzieli pomocy w nast. zakresie: zostanie zbudowany przez wojsko most pontonowy, zostanie przekazana dokumentacja i elementy rurociągu z 2019 r., a także do dyspozycji będą eksperci.\n",
      "1300757429014142976 2020-09-01 11:28:32 +0000 <pisorgpl> Minister w #KPRM @michaldworczyk w #Warszawa: Zgodnie z prośbą prezydenta Warszawy odbyło się spotkanie w KPRM w związku z awarią w oczyszczalni ścieków Czajka.\n",
      "1300742924922224640 2020-09-01 10:30:54 +0000 <pisorgpl> RT @MRPiPS_GOV_PL: 📄🖊 Prezydent @AndrzejDuda podpisał nowelizację ustawy o działaczach opozycji antykomunistycznej oraz osobach represjonow…\n",
      "1300738239012253696 2020-09-01 10:12:17 +0000 <pisorgpl> Premier @MorawieckiM w #Żyrardów: Dziękujemy wszystkim nauczycielom za trud i wysiłek, rodzicom za cierpliwość, a Wam - uczniom, za przystosowanie się do dzisiejszych warunków.\n",
      "1300737890851467266 2020-09-01 10:10:54 +0000 <pisorgpl> Premier @MorawieckiM w #Żyrardów: Nie byłoby nas tutaj takimi jakimi jesteśmy, gdyby nie obrona Polski i człowieczeństwa 81 lat temu.\n",
      "1300737200653508609 2020-09-01 10:08:09 +0000 <pisorgpl> Premier @MorawieckiM w #Żyrardów: Ostatnie miesiące to był trudny czas, którego nikt się nie spodziewał. Rodzice, uczniowie i nauczyciele musieli się do niego przystosować. Nie chcemy, aby ta sytuacja się powtórzyła, dlatego musimy przestrzegać pewnych norm i zasad.\n",
      "1300732625729052677 2020-09-01 09:49:59 +0000 <pisorgpl> Zapraszamy na konferencję prasową z udziałem Posła #PiS @lisieckipawel oraz warszawskich radnych PiS. Dziś (01.09), godz. 15:00, przed Urzędem Dzielnicy Białołęka m. st. Warszawy, ul. Modlińska 197, Warszawa.\n",
      "1300731075715641344 2020-09-01 09:43:49 +0000 <pisorgpl> Minister @MGMiZS_GOV_PL @marekgrobarczyk w #Warszawa: Sprawę oczyszczalni Czajka musimy oddać do prokuratury, aby ta zbadała kto zawinił i co jest przyczyną obecnego stanu.\n",
      "1300729869463105537 2020-09-01 09:39:01 +0000 <pisorgpl> RT @MON_GOV_PL: 81. rocznica wybuchu II wojny światowej  - - -  Szczególnym momentem tegorocznych obchodów na #Westerplatte było zapalenie…\n",
      "1300728418712117248 2020-09-01 09:33:16 +0000 <pisorgpl> 🇵🇱 Trzeba pamiętać o tych, którzy oddali swe życie za wolną Polskę. - Minister @MON_GOV_PL @mblaszczak. #IIWojnaŚwiatowa #Wrzesień39 https://t.co/vi57XrVcoV\n",
      "1300726244619714564 2020-09-01 09:24:37 +0000 <pisorgpl> Marszałek #Sejm @elzbietawitek we #Włoszczowa: Życzę, aby to był spokojny rok. Wierzę, że pokonamy koronawirusa. Bądźmy odpowiedzialni za siebie, a także za innych.\n",
      "1300726096263077889 2020-09-01 09:24:02 +0000 <pisorgpl> Marszałek #Sejm @elzbietawitek we #Włoszczowa: Naszym,  a w szczególności całego młodego pokolenia, obowiązkiem jest pamiętać o przeszłości, o heroizmie naszych Bohaterów.\n",
      "1300725441611943936 2020-09-01 09:21:26 +0000 <pisorgpl> Marszałek #Sejm @elzbietawitek we #Włoszczowa: Abyśmy mieli przed sobą przyszłość, musimy znać naszą przeszłość, a to szkoła jest miejscem, gdzie nauczyciele i wychowawcy przekazują wartości, które powinni Was prowadzić przez całe dorosłe życie.\n",
      "1300725124988055553 2020-09-01 09:20:10 +0000 <pisorgpl> Marszałek #Sejm @elzbietawitek we #Włoszczowa: Tak jak świat nie może zostać zatrzymany, tak nie możemy zamknąć przed Wami szkół. Nic nie zastąpi bezpośredniego kontaktu z uczniami i nauczycielami. Przed nami wielki egzamin i odpowiedzialność - jak radzić sobie z koronawirusem.\n",
      "1300710363646889984 2020-09-01 08:21:31 +0000 <pisorgpl> Minister @MEN_GOV_PL @D_Piontkowski w #Łapy: Życzę, aby ten rok szkolny był bezpieczny, aby obostrzenia jak najszybciej się skończyły.\n",
      "1300710123585900545 2020-09-01 08:20:34 +0000 <pisorgpl> Minister @MEN_GOV_PL @D_Piontkowski w #Łapy: Wychowanie na dobrego człowieka jest istotne. Tego nie da się zmierzyć oceną. To Wy sami musicie odróżniać czym jest dobro, a czym zło.\n",
      "1300709686350688256 2020-09-01 08:18:49 +0000 <pisorgpl> Minister @MEN_GOV_PL @D_Piontkowski w #Łapy: 1 września to w naszej historii moment szczególny, w którym pamiętamy o naszych bohaterach, a rok 2020 to czas wielkich rocznic.\n",
      "1300709384339812353 2020-09-01 08:17:37 +0000 <pisorgpl> RT @PremierRP: ➡️ Możliwe warianty funkcjonowania szkoły 🏫 https://t.co/RbFBQPzJyt\n",
      "1300709257575362560 2020-09-01 08:17:07 +0000 <pisorgpl> Minister @MEN_GOV_PL @D_Piontkowski w #Łapy: Pamiętajcie, że szkoła to duże wyzwanie. To miejsce, w którym uczycie się ciągle czegoś nowego. Korzystajcie z tego, co przekazują Wam nauczyciele.\n",
      "1300708979610394624 2020-09-01 08:16:01 +0000 <pisorgpl> Minister @MEN_GOV_PL @D_Piontkowski w #Łapy: Bezpośredniego kontaktu ucznia z nauczycielem nie jest w stanie zamienić żaden program. Skoro wracamy do normalności w innych dziedzinach, także szkoła powinna do niej wrócić.\n",
      "1300708739088109573 2020-09-01 08:15:04 +0000 <pisorgpl> Minister @MEN_GOV_PL @D_Piontkowski w #Łapy: Epidemia doprowadziła do tego, że musieliśmy zmienić nasze życie, także to szkolne. Musimy jednak wracać do normalności, do kontaktów z drugim człowiekiem.\n",
      "1300707897610035201 2020-09-01 08:11:43 +0000 <pisorgpl> RT @PremierRP: ➡️ Wskazówki dla rodziców ⤵️ https://t.co/RkBE9KPvpL\n",
      "1300707886620966912 2020-09-01 08:11:40 +0000 <pisorgpl> RT @PremierRP: ➡️ 10 zasad dla ucznia 🧮📚📐 ⤵️ https://t.co/NkjV4Kn6X1\n",
      "1300698340284338182 2020-09-01 07:33:44 +0000 <pisorgpl> Premier @MorawieckiM w #Dalików: Życzę bezpieczeństwa zarówno w drodze do szkoły, jak i tego sanitarnego, którego musimy przestrzegać.\n",
      "1300697855217348608 2020-09-01 07:31:49 +0000 <pisorgpl> Premier @MorawieckiM w #Dalików: Dziękuję całej społeczności szkolnej za przyjęcie imienia Powstańców Styczniowych. Dziękuję za czczenie pamięci o naszych przodkach.\n",
      "1300697117846052864 2020-09-01 07:28:53 +0000 <pisorgpl> Premier @MorawieckiM w #Dalików: Wspólnym wysiłkiem uczniów, nauczycieli i rodziców udało nam się przejść przez trudny okres jakim były ostatnie miesiące ubiegłego roku szkolnego.\n",
      "1300693211032231936 2020-09-01 07:13:21 +0000 <pisorgpl> RT @PremierRP: 🎥 Premier @MorawieckiM: Noc jest najczarniejsza przed świtem i stajemy tutaj, w Wieluniu właśnie, przed świtem, tak jak oni.…\n",
      "1300692152792551424 2020-09-01 07:09:09 +0000 <pisorgpl> Pomyślnego i bezpiecznego roku szkolnego 2020/2021. 📚🖊️ https://t.co/KNk4vlXijW\n",
      "1300689111108456450 2020-09-01 06:57:04 +0000 <pisorgpl> RT @michaldworczyk: Dziś o 12.00 spotkanie sztabu kryzysowego w Kancelarii Prezesa Rady Ministrów ws awarii „Czajki”.\n",
      "1300670052149190656 2020-09-01 05:41:20 +0000 <pisorgpl> Minister @MON_GOV_PL @mblaszczak w @tvp_info:  Pamiętajmy o dzielności żołnierzy Wojska Polskiego. Niech to będzie dla nas nauka na przyszłość. Niech pamięć o Nich będzie wieczna.\n",
      "1300669504209465344 2020-09-01 05:39:09 +0000 <pisorgpl> Minister @MON_GOV_PL @mblaszczak w @tvp_info: Trzeba pamiętać o tych, którzy oddali swe życie za wolną Polskę.\n",
      "1300669328011005952 2020-09-01 05:38:27 +0000 <pisorgpl> Minister @MON_GOV_PL @mblaszczak w @tvp_info: Przywróciliśmy chwałę i godność żołnierzom, którzy nas strzegli w czasie II wojny światowej i tym, którzy strzegą nas obecnie.\n",
      "1300668943871377410 2020-09-01 05:36:56 +0000 <pisorgpl> Minister @MON_GOV_PL @mblaszczak w @tvp_info: Uroczystości na Westerplatte powinny mieć charakter państwowy i taki właśnie od dziś mają. Czcimy żołnierzy Wojska Polskiego, pamiętamy o nich.\n",
      "1300668503767355394 2020-09-01 05:35:11 +0000 <pisorgpl> Minister @MON_GOV_PL @mblaszczak w @tvp_info:  Wierność i oddanie są najważniejsze w służbie Polsce. Przyświecają one żołnierzom dziś, ale także przyświecały podczas II wojny światowej.\n",
      "1300665767579578368 2020-09-01 05:24:18 +0000 <pisorgpl> Obchody 81. rocznicy wybuchu II wojny światowej.  #Pamiętamy #Wrzesień39 #IIWŚ https://t.co/lgy9WQ0Hqm\n",
      "1300661993213440001 2020-09-01 05:09:18 +0000 <pisorgpl> Premier @MorawieckiM w #Wieluń: Dzisiaj w Wieluniu jesteśmy zobowiązani, żeby powiedzieć: nigdy więcej nazizmu i komunizmu. Nigdy więcej wojny. Mamy obowiązek przechowywać tę pamięć i pamiętać o przeszłych pokoleniach. To musi być drogowskazem na przyszłość. https://t.co/ho0UZ7Gvnv\n",
      "1300660669143044096 2020-09-01 05:04:03 +0000 <pisorgpl> RT @PremierRP: Premier @MorawieckiM zwiedził Izbę Pamięci Września 1939 r. i lat późniejszych im. Andrzeja Przewoźnika w #Wieluń. https://t…\n",
      "1300660660636966912 2020-09-01 05:04:01 +0000 <pisorgpl> RT @PremierRP: Premier @MorawieckiM złożył kwiaty pod Pomnikiem Ofiar bombardowania Wielunia 1939. https://t.co/YwbcWblwDy\n",
      "1300660656274837504 2020-09-01 05:04:00 +0000 <pisorgpl> RT @PremierRP: Złożenie wieńców pod Pomnikiem Pamięci Ofiar 1 września 1939 r. w #Wieluń. https://t.co/hYVr6uUnbP\n",
      "1300660639610920960 2020-09-01 05:03:56 +0000 <pisorgpl> RT @PremierRP: Premier @MorawieckiM w #Wieluń: Jesteśmy strażnikami prawdy, która jest dzisiaj zakłamywana. Ta wojna była o wszystko - o oc…\n",
      "1300660616542269443 2020-09-01 05:03:50 +0000 <pisorgpl> RT @PremierRP: Premier @MorawieckiM w #Wieluń: Noc jest najczarniejsza przed świtem. Stajemy tutaj przed świtem tak jak oni. Myślimy o tych…\n",
      "1300658836693495810 2020-09-01 04:56:46 +0000 <pisorgpl> Cześć i chwała Bohaterom! #Westerplatte #Wrzesień39 #IIWŚ https://t.co/ByA3bLPLtf\n",
      "1300657260775997441 2020-09-01 04:50:30 +0000 <pisorgpl> RT @PremierRP: W #Wieluń premier @MorawieckiM uczestniczy w uroczystościach upamiętniających 81. rocznicę wybuchu II wojny światowej. https…\n",
      "[!] No more data! Scraping will stop now.\n",
      "found 0 deleted tweets in this search.\n"
     ]
    }
   ],
   "source": [
    "twint.run.Profile(c)"
   ]
  },
  {
   "source": [
    "## MENTIONS"
   ],
   "cell_type": "markdown",
   "metadata": {}
  },
  {
   "cell_type": "code",
   "execution_count": null,
   "metadata": {},
   "outputs": [],
   "source": []
  },
  {
   "cell_type": "code",
   "execution_count": 31,
   "metadata": {},
   "outputs": [],
   "source": [
    "c = twint.Config()\n",
    "c.Since = \"2020-01-01 00:00:00\"\n",
    "c.Hide_output = True\n",
    "c.Output = (\"./pisorgpl_mentions.csv\")\n",
    "c.Search = '@pisorgpl'"
   ]
  },
  {
   "cell_type": "code",
   "execution_count": 32,
   "metadata": {
    "tags": [
     "outputPrepend"
    ]
   },
   "outputs": [
    {
     "output_type": "stream",
     "name": "stdout",
     "text": [
      "dydacie z ramienia PiS 🤬   https://t.co/HfIqBj3Gbm\n",
      "1313139258027372546 2020-10-05 15:29:30 +0000 <Anna_Mierzynska> @CHARZYNSKIKAROL @PolskieRadio24 @pisorgpl @MojTarnow @JagiellonskiUni @W_Bernacki @OMPkrakow 🤦🏻‍♀️🤦🏻‍♀️\n",
      "1313139100891914242 2020-10-05 15:28:53 +0000 <Swiadomy86> @MZ_GOV_PL Proszę jak #Andrusiewicz nawołuje do nienawiści! Co będzie następne? @pisorgpl wyprowadzi zomo na ulicę? A może zainstalują nam kamery w domach i będą sprawdzać czy mamy maseczki? Nigdy więcej nie postawię X przy kandydacie z ramienia PiS 🤬   https://t.co/HfIqBj3Gbm\n",
      "1313138994973208576 2020-10-05 15:28:28 +0000 <MarcinZloto> @dolnyslask1603 @K_Galecka @Banasiak1 @tvp_info @warszawa @pisorgpl Czy TVP i rząd PiS w ustawie wpisało też plaże w zimie, oparcia zamiast ławek, kible po 600 tysi., butelkomaty po 200 tysi (normalnie po 20) ????????\n",
      "1313138982973321217 2020-10-05 15:28:25 +0000 <CHARZYNSKIKAROL> @EreaAndrzej @PolskieRadio24 @pisorgpl @MojTarnow @JagiellonskiUni @W_Bernacki @OMPkrakow Celne\n",
      "1313138758452158464 2020-10-05 15:27:31 +0000 <KoszowskiPawe> @LewitujacyUmysl @pisorgpl Huj wie\n",
      "1313138502754881536 2020-10-05 15:26:30 +0000 <EreaAndrzej> @CHARZYNSKIKAROL @PolskieRadio24 @pisorgpl @MojTarnow @JagiellonskiUni @W_Bernacki @OMPkrakow Luźne skojarzenie: https://t.co/16HQNyPKxB\n",
      "1313138097547247624 2020-10-05 15:24:54 +0000 <MarekS98837118> @Autolikos1 @dysydentt @pisorgpl gupje je owo?\n",
      "1313138067398692865 2020-10-05 15:24:46 +0000 <Jan33421178> @IsakowiczZalesk @pisorgpl @Platforma_org @AndrzejDuda @MorawieckiM @prezydentpl @PremierRP @MSZ_RP Uznanie oderwania  Kosowa na rzecz separatystów Albańskich przez  hołotę polityczną polski było postępkiem haniebnym i niezgodnym z Polską racją stanu. Hańba tym wszystkim którzy podjęli wtedy taką decyzję .\n",
      "1313137950243291136 2020-10-05 15:24:18 +0000 <agatyduda> @m_zarzycki_ @DarekGiej @zamoznypolak @Grzegor40626015 @IBRiS_PL @polskalogiczna @wirtualnapolska @pisorgpl @KO_Obywatelska @PL_2050 @KONFEDERACJA_ @__Lewica @nowePSL Jak najbardziej, dlatego konfa mi się z faszyzmem spina o tyle że gdzieś tam był w podstawach nazizmu jako systemu funkcjonowania. A z tym jak wspomniałem kojarzą mi się zabawy MW i ONR.\n",
      "1313137783079399426 2020-10-05 15:23:39 +0000 <Liziniewicz> @szczepan_wojcik @pisorgpl Przesadza pan z tymi biegunami. I w SLD łażą we futrach.\n",
      "1313137763726786563 2020-10-05 15:23:34 +0000 <wPolscepl> #ZapowiedźwPolsce #GorącePytania Gościem @EHoldynska będzie @E_Rafalska, europoseł @pisorgpl. Wtorek, godz. 12:00 https://t.co/6BOhb4TNOr\n",
      "1313137602392920069 2020-10-05 15:22:55 +0000 <CHARZYNSKIKAROL> Poznajcie dzięki @PolskieRadio24 senatora a w latach 2011-2015 posła @pisorgpl z @MojTarnow profesora @JagiellonskiUni religioznawcę i politologa pana @W_Bernacki https://t.co/UK95OWE8w3 Oto jak on rozumie #UE. Prawda jaki mundry? Może mu to #Legutko w @OMPkrakow powiedział?\n",
      "1313137458347900929 2020-10-05 15:22:21 +0000 <Remigiu53773674> @pisorgpl @PiotrMuller @PolsatNewsPL Bzdura\n",
      "1313137423061221376 2020-10-05 15:22:13 +0000 <Liziniewicz> @MiskoMarek @szczepan_wojcik @pisorgpl Gdybym był złośliwy to zapytałbym, komu będziecie Pan robił dobrze jak skończy się hajs z futer, ale nie chce mi się bawić w ataki personalne.\n",
      "1313137142772703233 2020-10-05 15:21:06 +0000 <hipolit_kwas> @Bill74818520 @kubabuks @PanWaldemar Rozumiem , ze w proteście przeciw likwidacji młodzieżowych oddziałów psychiatrycznych przez rząd @pisorgpl  wypiszesz te wszystkie imiona o które się upominasz na gmachu @MZ_GOV_PL https://t.co/NYtCY9uAe6\n",
      "1313136963231379460 2020-10-05 15:20:23 +0000 <ArkadiuszP6> @sen_madame @K_Smiszek @ZuzannaRB @pisorgpl @CzarnekP @RPDPawlak Jak widać daremny trud.. A PiS to jednak stan umysłu.. żegnam..\n",
      "1313135950982197254 2020-10-05 15:16:22 +0000 <MiskoMarek> @Liziniewicz @szczepan_wojcik @pisorgpl Pan się pakuję panie Jacku. Jak dziennikarze z państwowych mediów zrobią desant na waszą redakcyjkę, to może dla takiego Pulitzera miejsca zabrakcąć.\n",
      "1313135683020652545 2020-10-05 15:15:18 +0000 <Pawe03479986> @pisorgpl @PiotrMuller @PolsatNewsPL Powiedzcie to premierowi. W jego opinii pandemii już nie ma.\n",
      "1313135606055174146 2020-10-05 15:15:00 +0000 <slawekMilow> @WiadomosciTVP @katarinabarley @pisorgpl @TomaszPoreba Połowa Polaków lub więcej popierają to stanowisko więc niech pan sobie mordy nami nie wyciera.\n",
      "1313135434889924618 2020-10-05 15:14:19 +0000 <MaciekStefunko> @MRebeliant @sojaireneusz1 @pisorgpl @CzarnekP Czarnkowi zrobiono test, bo miał wszystkie cztery objawy koroawirusa, czyli: 1. Ból głowy oraz 2. Homofobia 3. Mizoginizm 4. Szowinizm\n",
      "1313134925197893633 2020-10-05 15:12:17 +0000 <MGongolewicz> @sebsol70 @CzarnekP @pisorgpl Z tzw wielkim tfu strategiem to wszystko mozliwe\n",
      "1313134897884786689 2020-10-05 15:12:11 +0000 <Swiadomy86> @Dominik51141857 @Matka_Kurka @pisorgpl jeszcze za to zapłaci 🤬🤬🤬\n",
      "1313134404252954625 2020-10-05 15:10:13 +0000 <kasjan_k> Już nie ponad 700, a 8⃣7⃣1⃣ organizacji społecznych wspiera @ZuzannaRB i nadal to za mało dla rządzących? 🤦‍♂️  @pisorgpl z szacunku do tysięcy ludzi, zarówno pracujących w tych organizacjach jak i z nimi współpracujących zagłosujcie przyzwoicie, choć raz... https://t.co/FziQq62qvC\n",
      "1313134226108297217 2020-10-05 15:09:31 +0000 <luizagarczarek> @MarcinPalade @IBRiS_PL @wirtualnapolska @pisorgpl @KO_Obywatelska @PL_2050 @KONFEDERACJA_ @__Lewica @Polska_Koalicja Musi po prostu jebnąćććć, żeby ludzie oprzytomnieli. Trudno 🤷‍♀️\n",
      "1313134214699773956 2020-10-05 15:09:28 +0000 <SokalskiEdmund> @dziniu @pisorgpl Niestety mam takie same odczucia. Żle się dzieje w Państwie Polskim.\n",
      "1313134187847782400 2020-10-05 15:09:21 +0000 <Antoniusz67> @Grzegor95956376 @MarcinPalade @IBRiS_PL @wirtualnapolska @pisorgpl @KO_Obywatelska @PL_2050 @KONFEDERACJA_ @__Lewica @Polska_Koalicja No właśnie...się rozwija a przy takich mini politykach Konfederacji by się zwinęła. I tyle w temacie🥴\n",
      "1313133580114104320 2020-10-05 15:06:56 +0000 <bialykanion> @JacekWronaCBS Znacznie wcześniej zobaczyłam w @tvp_info , że @CzarnekP jako przedstawiciel @pisorgpl, najlepiej  wyjaśniał  zagadnienia związane z reformą sądownictwa w programach publicystycznych. Napisałam  tt, aby w tych sprawach, był częstym gościem.👍🙂\n",
      "1313133530667454466 2020-10-05 15:06:45 +0000 <Jacek_Hecht> Odchodzący 🇵🇱@jkardanowski🇵🇱 był najlepszym od lat ministrem rolnictwa. Jego rola w nakłanianiu rolników do głosowania na Prezydenta @AndrzejDuda, a wcześniej na @pisorgpl, jest nie do przecenienia. Panie Ministrze, my rolnicy będziemy pamiętać i stać #muremzaArdanem! Dziękujemy!\n",
      "1313133484379176960 2020-10-05 15:06:34 +0000 <dziniu> @JanTelewizorek @DawidK_98 @pisorgpl Przecież tym się można podetrzeć. Jeśli Trump przegra, to tym bardziej ta rezolucja będzie się do tego nadawać. To nie od IR zależy polityka USA względem Trójmorza.\n",
      "1313133273539915777 2020-10-05 15:05:43 +0000 <Rafa99088651> @stefan9977345 @Eva60333196 @MZ_GOV_PL @pisorgpl Statystyki czego? Śmiertelność grypy w 2018 to 125 osób.\n",
      "1313132590589718533 2020-10-05 15:03:01 +0000 <Petroniusz02> @ortograf2 @pisorgpl Pisowi nie wierzyłem nigdy w 2005 - 2007 pokazali wprawki. Teraz poszli po wszystko i wszystkich\n",
      "1313132038577434625 2020-10-05 15:00:49 +0000 <KrzysztofBesak> @MariaKatarzyna @prezydentpl @AndrzejDuda @AGozdyra @radekfogiel @Dariusz_Jonski @otwarteklatki @pisorgpl @KObywatelska Szkoda\n",
      "1313131769340801026 2020-10-05 14:59:45 +0000 <marcinlobko> @LewitujacyUmysl @pisorgpl Ale możemy swoich obywateli wydawać?\n",
      "1313131628366102528 2020-10-05 14:59:11 +0000 <Jola64471230> Do nich dodać jeszcze \"naszą kaczuszkę\" bo tu widzę jego ulubieńca! 2tyg Kwarantanny @Michal_Moskal @SasinJacek @pisorgpl !!!!\n",
      "1313131288346472449 2020-10-05 14:57:50 +0000 <PiS_Oswiecim> List Klubów @pisorgpl  w Radzie @MiastoOswiecim  i Radzie @PowiatOsw  w sprawie skandalicznych słów Prezydent Miasto @gdansk Aleksandry Dulkiewicz skierowany do Prezydenta Oświęcimia Janusza Chwieruta i Starosty Oświęcimskiego Marcina Niedzieli. Oczekujemy natychmiastowej reakcji https://t.co/83Ce5s3AZ3\n",
      "1313131266590547968 2020-10-05 14:57:45 +0000 <10murzynkow> @arpachaj @logigamer @Mark001001 @editt86 @pisorgpl A ty potrafisz czytać ze zrozumieniem dzbanie?\n",
      "1313130760526868487 2020-10-05 14:55:44 +0000 <Leon_Ignac> @mariuszbonkowo @pisorgpl Znasz kogoś kto jest im w stanie zagrozić? Może konfederacja ? 😂\n",
      "1313130749177090050 2020-10-05 14:55:42 +0000 <arpachaj> @10murzynkow @logigamer @Mark001001 @editt86 @pisorgpl A merytorycznie pan potrafisz czy to za duże wymagania? Wyrzygać się na kogoś to każdy potrafi tylko co z tego? 👎\n",
      "1313130463171678208 2020-10-05 14:54:33 +0000 <m_zarzycki_> @agatyduda @DarekGiej @zamoznypolak @Grzegor40626015 @IBRiS_PL @polskalogiczna @wirtualnapolska @pisorgpl @KO_Obywatelska @PL_2050 @KONFEDERACJA_ @__Lewica @nowePSL Dlatego najmądrzejsze będzie po prostu nie używanie stwierdzeń pokroju \"partia X to faszyści/naziści\" bo to mija się z celem i obecnie wzbudza już bardziej politowanie niż jakąkolwiek reakcję\n",
      "1313130078646099968 2020-10-05 14:53:02 +0000 <tomtomjur> pamiętam jak komuchy z @pisorgpl wytykali ,że GRAD zarabia za dużo w spółce mającej zbudować el.jądrową. Ta pisowska szarańcza przebija ich 100X https://t.co/exNCpFjrBa https://t.co/N9kRrxr8hY\n",
      "1313130003811491843 2020-10-05 14:52:44 +0000 <Zolw__Pzn> @AnkaFanka7777 @KobielaBarbara @AdamDee_ASD @pisorgpl A poza tym tu nie chodzi o jakiś \"status\", tylko o to, że cała koncepcje edukacji \"od kołyski po uniwersytet\" trzeba zdecydowanie wyremontować.  Bo dzisiaj jest spróchniała konstrukcja i łata na łacie.\n",
      "1313129989169197056 2020-10-05 14:52:40 +0000 <domin_em> @WBiedron Paranoja to to co nominaci @pisorgpl zrobili z radiem ☝️\n",
      "1313129919984160770 2020-10-05 14:52:24 +0000 <ohhbarbara> @LewitujacyUmysl @pisorgpl I bardzo spusznie. Juz dawno temu powien byc sadzony za wszystko co zrobil.\n",
      "1313129822122631173 2020-10-05 14:52:01 +0000 <ZbHoffmann> \"Nie ma uzasadnienia, aby wiceprzewodniczący Parlamentu traktował dwa państwa członkowskie z taką pogardą\" - napisali Europosłowie @pisorgpl  w liście do przewodniczącego Parlamentu Europejskieg Davida Sassolego w sprawie słów wiceszefowej PE K.Barley dotyczących Polski i Węgier.\n",
      "1313129781903396866 2020-10-05 14:51:51 +0000 <agatyduda> @m_zarzycki_ @DarekGiej @zamoznypolak @Grzegor40626015 @IBRiS_PL @polskalogiczna @wirtualnapolska @pisorgpl @KO_Obywatelska @PL_2050 @KONFEDERACJA_ @__Lewica @nowePSL Nazizm na poziomie ideologi i polityki też nie zakładał obozów, a nawet o nich nie wspominał. Albo widzisz szerszy kontekst włączając w to MW I ONR albo nie, co znaczy,że to nie istnieje.\n",
      "1313129305526988801 2020-10-05 14:49:57 +0000 <4tech_uk> @TOPTVPINFO @LatkowskiS #towarzysze z @tvp_info #towarzyszu @LatkowskiS  czy w #TaśmyAmberGold będą prezentowane nagrania rozmów m. in #Plichta vel.Stefański z politykami @pisorgpl  o sponsorowaniu partii przez #AG a może nagrania negocjacji z #KK i z działaczami @PiS_Pomorski\n",
      "1313129239303147523 2020-10-05 14:49:42 +0000 <Zolw__Pzn> @AnkaFanka7777 @KobielaBarbara @AdamDee_ASD @pisorgpl Jestem nawet w strukturach \"Solidarności\".  To tak nie działa. Tu nie chodzi o prawa pracownicze, tylko o zmianę sposobu funkcjonowania systemu edukacji w ogóle.   W przypadku uczelni związki nie maja w tej sprawie w praktyce nic do powiedzenia.\n",
      "1313129176623439872 2020-10-05 14:49:27 +0000 <Pjotrm2> @irenagos @CzarnekP @pisorgpl Kolejny temat zastępczy, żeby czasem żadna telewizja nie poruszała tematu CPK, respiratorów i długu publicznego😡\n",
      "1313128524144881670 2020-10-05 14:46:51 +0000 <zygmuntmichnie1> @RepublikaTV @Macierewicz_A @pisorgpl @GPtygodnik I niech tak się stanie!!!\n",
      "1313128502707838978 2020-10-05 14:46:46 +0000 <Pjotrm2> @mobrzydowicz @tvn24 @KolendaK @mhorala Dla Służby Zdrowia oklaski, dla zorganizowanej grupy przestępczej @pisorgpl miliony 🤬\n",
      "1313128279310848000 2020-10-05 14:45:53 +0000 <studio_k2_art> @pisorgpl skąd wy tych ludzi bierzcie. To jakiś ciemnogrod. @CzarnekP w spódnicy https://t.co/KU4ZCQ8liN\n",
      "1313128168199421959 2020-10-05 14:45:26 +0000 <MaciejM85> Rząd planuje wprowadzić godzinę policyjną. Hej @pisorgpl może przestańcie się bawić w półśrodki i otwórzcie od razu obozy koncentracyjne? Infrastruktura po Niemcach została, wystarczy obsadzić załogami. Lewica chętnie pomoże, mają doświadczenie w tym względzie\n",
      "1313127538391162880 2020-10-05 14:42:56 +0000 <4tech_uk> Życzę szybkiego powrotu do zdrowia w tym zdrowia psychicznego. W czasie #kwarantanna dobrze byłoby aby napisał Pan rezygnację ze stanowiska ministra i wysłał do #KPRM @PremierRP  @BeataSzydlo  mówiła,że @pisorgpl  słucha Polaków a Polacy nie chcą Pana na stanowisku ministra.\n",
      "1313127503540740098 2020-10-05 14:42:48 +0000 <WojciechSnt> To trzeba @pisorgpl oddać...\n",
      "1313127275907493891 2020-10-05 14:41:53 +0000 <m_zarzycki_> @agatyduda @DarekGiej @zamoznypolak @Grzegor40626015 @IBRiS_PL @polskalogiczna @wirtualnapolska @pisorgpl @KO_Obywatelska @PL_2050 @KONFEDERACJA_ @__Lewica @nowePSL Ale i tak faszyzm włoski, a konserwatyzm to dwa dalekie od siebie nurty, proszę nie zapominać.\n",
      "1313127212758044672 2020-10-05 14:41:38 +0000 <MirkaP8> Kochani dbajmy o siebie,dożyjmy upadku @pisorgpl https://t.co/GaHwxhOjaL\n",
      "1313127093262311429 2020-10-05 14:41:10 +0000 <m_zarzycki_> @agatyduda @DarekGiej @zamoznypolak @Grzegor40626015 @IBRiS_PL @polskalogiczna @wirtualnapolska @pisorgpl @KO_Obywatelska @PL_2050 @KONFEDERACJA_ @__Lewica @nowePSL Definicji... Po prostu odwołuję się do funkcjonowania Włoch i Niemiec.  Faszyzm przynajmniej nie zakłada żadnej rasy panów, wyższości jednego narodu nad drugim itp. W dodatku Włochy (za Mussoliniego, zaraz po objęciu władzy) dokonały kilka miłych zmian prorynkowych.\n",
      "1313126894150266881 2020-10-05 14:40:22 +0000 <Autolikos1> @dysydentt @pisorgpl Cwane chitrusy. 🤨\n",
      "1313126447553359877 2020-10-05 14:38:36 +0000 <Tomasz12757309> @RepublikaTV @Macierewicz_A @pisorgpl @GPtygodnik W kaftan i do psyhiatryka.\n",
      "1313126084423155715 2020-10-05 14:37:09 +0000 <agatyduda> @m_zarzycki_ @DarekGiej @zamoznypolak @Grzegor40626015 @IBRiS_PL @polskalogiczna @wirtualnapolska @pisorgpl @KO_Obywatelska @PL_2050 @KONFEDERACJA_ @__Lewica @nowePSL Do faszyzmu? Dlaczego? Możesz podać na której definicji się opierasz?\n",
      "1313126051137155072 2020-10-05 14:37:01 +0000 <dysydentt> @Autolikos1 @pisorgpl Lekko licząc - 500 000 Firm.\n",
      "1313125869561536513 2020-10-05 14:36:18 +0000 <ortograf2> @Petroniusz02 @pisorgpl Dokładnie Straciliśmy czujność   a ta pewność że następne wybory wygramy  w ogóle nas  zniszczyła.Jak pisałem o tym że pis zniszczy wszystko  mieli mnie za głupca i pewność że pis się tak daleko nie posunie, zniszczyła na wiele lat marzenie o normalności.\n",
      "1313125778406674432 2020-10-05 14:35:56 +0000 <RepublikaTV> #Kraj / #Świat | Zapewniam, że doprowadzimy do końca badanie tej tragedii, ale też do procesu, który ostatecznie winnych wskaże - powiedział @Macierewicz_A na zjeździe. @pisorgpl @GPtygodnik  #włączprawdę z #TVRepublika  https://t.co/hyvyMRCfVV\n",
      "1313125625285218307 2020-10-05 14:35:20 +0000 <Autolikos1> @dysydentt @pisorgpl Skąd wiadomo, że zrobi to dobrze? 🤔 Ważniejsze, ile będzie kosztowała zusowska \"nieomylność\"?\n",
      "1313124942846865410 2020-10-05 14:32:37 +0000 <edward42414374> @AGozdyra @PolsatNewsPL @AgaBak @__Lewica @hennigkloska @KObywatelska @marek_ast @pisorgpl @WTBartoszewski @Polska_Koalicja @RobertWinnicki @KONFEDERACJA_ @agozdyra Pani Redaktor. Lubię Pani @debatadnia. Jednocześnie się zastanawiam: jak się Pani udało być na fali w Polsacie, przy szefowej informacji p. Gawryluk? Przecież pozostali tylko miłośnicy pislamu, w ramach dekompozycji dokonanej na Solorzu przez Kaczyńskiego? To cud?!\n",
      "1313124821082009600 2020-10-05 14:32:08 +0000 <kordeczekk> @cezarywlosek @EkstraligaTV @pisorgpl Skoro pan Stępniewski czy też przeciętny kibic wie lepiej jaką decyzję podjąć to po co nam lekarze na stadionie?\n",
      "1313124795568005121 2020-10-05 14:32:02 +0000 <Polityczny4> @LewitujacyUmysl @pisorgpl Kurwa, Polański już dawno powinien siedzieć. Jak można chcieć wsadzać do puszki pedofili w sutannach, i rownoczesnie miec Polańskiego za wartościową  osobę?\n",
      "1313124338170761216 2020-10-05 14:30:13 +0000 <m_zarzycki_> @agatyduda @DarekGiej @zamoznypolak @Grzegor40626015 @IBRiS_PL @polskalogiczna @wirtualnapolska @pisorgpl @KO_Obywatelska @PL_2050 @KONFEDERACJA_ @__Lewica @nowePSL A tak w ogóle to Konfie równie daleko do faszyzmu, jak i nazizmu, ale już bliżej faszyzmu.\n",
      "1313124282000646145 2020-10-05 14:30:00 +0000 <Robert43131179> @Anna_Mierzynska @MagdalenaGrudz2 Proponuję całą wierchuszkę @pisorgpl\n",
      "1313124134931574784 2020-10-05 14:29:25 +0000 <m_zarzycki_> @agatyduda @DarekGiej @zamoznypolak @Grzegor40626015 @IBRiS_PL @polskalogiczna @wirtualnapolska @pisorgpl @KO_Obywatelska @PL_2050 @KONFEDERACJA_ @__Lewica @nowePSL Konfa chce zakładać obozy i mordować mniejszości? Nie wiedziałem...  Boże mój, takie pierdzielenie, że szkoda gadać. Są zwykłymi konserwatystami, nie lubią uchodźców z Bliskiego Wschodu (bo ci w większości są nierobami), niezbyt przepadają za LGBT I tyle A wszystko inne to fikcja\n",
      "1313124049791447043 2020-10-05 14:29:04 +0000 <Sky_Bart82> @LewitujacyUmysl @pisorgpl A co złego w tym, że pedofil pójdzie wreszcie siedzieć, bo nie rozumiem? Są równi i równiejsi pedofile? To dlatego PO nic nie zrobiła w kwestii rozliczenia KK z pedofilii? Zamierzają go bronić? To byłoby w sumie świetne ukoronowanie roku pełnego wizerunkowych samobójstw...\n",
      "1313123687051259906 2020-10-05 14:27:38 +0000 <Franka38058114> @ArkadiuszNakie1 @pispojednoz @adamSzlapka @TimmermansEU @pisorgpl Areczku. Opanuj się. Przeczytaj jeszcze raz to co sam napisałeś, tym razem ze zrozumieniem!!! Tyle głupoty w jednym zdaniu. Nie wiem: śmiać się czy płakać?\n",
      "1313123532012949504 2020-10-05 14:27:01 +0000 <Flint26211338> @LewitujacyUmysl @pisorgpl SN wydał w tej sprawie wyrok. Mogą Polańskiego w dupę pocałować.\n",
      "1313123502262804480 2020-10-05 14:26:54 +0000 <cezarywlosek> @kordeczekk @EkstraligaTV @pisorgpl Chyba żartujesz Iversen ledwo trzyma się na nogach i zdolny do dalszej jazdy to jest kryminał ale znając niektóre wyroki wydawane przez sędziów to wszystko zależne jest od znajomości\n",
      "1313123423749636096 2020-10-05 14:26:35 +0000 <Liziniewicz> @mariuszbonkowo @pisorgpl :-) Żadna partia w Polsce, która w programie będzie miała skrócenie łańcuchów dla psów do 3 metrów i skórowanie zwierząt dla każdego i bez żadnej kontroli nie wygra wyborów.\n",
      "1313123422403268608 2020-10-05 14:26:35 +0000 <EUntefuhrer> @CHARZYNSKIKAROL @KPH_official @JWieczorekPL @pisorgpl @SlaskiUW @HannaGillPiatek @Ula_Zielinska @kaczorowska2 @Anna_Mierzynska Wajcha już centralnie przełożona?...  ;)\n",
      "1313123153225355266 2020-10-05 14:25:31 +0000 <marctime71> @KKubow @CTomczyk @MorawieckiM Proszę pana cynicznej manipulacji dopuścił się pan Morawiecki Proszę mi powiedzieć co chciał osiągnąć mówiąc iż wirus jest w odwrocie i nie trzeba się go bać ? Bal się że @pisorgpl przegra wybory To tyle nt manipulacji\n",
      "1313123125555605505 2020-10-05 14:25:24 +0000 <poldek34> @jkardanowski @pisorgpl Panie Pośle, był Pan najlepszym ministrem rolnictwa w wolnej Polsce. Szacunek!!!\n",
      "1313123011692843015 2020-10-05 14:24:57 +0000 <InMoskau> @Rob8Chief @GKomisarz @MorawieckiM To chyba będzie już taki klimat. Nie wierzę w przypadek. @pisorgpl jak zwykle krzyczy a potem cofka. Mnie też się już cofa\n",
      "1313122946496561152 2020-10-05 14:24:41 +0000 <PiotrNo02045211> @Liziniewicz @szczepan_wojcik @pisorgpl Żadna partia nie rządziła samodzielnie dwa razy .A jednak rządzi Też mi argument , że jak czegoś nie było to się nie zdarzy .\n",
      "1313122841596964866 2020-10-05 14:24:16 +0000 <MarekWarsaw> @sebsol70 @CzarnekP @pisorgpl ...afery można przykryć, finanse wyjdą wcześniej czy później\n",
      "1313122670586875904 2020-10-05 14:23:35 +0000 <Walach_Apgar> @kaszelpalacza @ela_kam___ @partiarazem @pisorgpl @PolaMatysiak Być może jesteś fizycznie bezpłodna. Mentalnie na pewno.\n",
      "1313122658159124480 2020-10-05 14:23:33 +0000 <AnjaZuzanna15> @pisorgpl @tvp_info @michaldworczyk @waldemar_buda czarnek 'pozytywny' 🥳macie szanse naprawić... https://t.co/xXdOoAC3CK\n"
     ]
    },
    {
     "output_type": "error",
     "ename": "KeyboardInterrupt",
     "evalue": "",
     "traceback": [
      "\u001b[0;31m---------------------------------------------------------------------------\u001b[0m",
      "\u001b[0;31mKeyboardInterrupt\u001b[0m                         Traceback (most recent call last)",
      "\u001b[0;32m<ipython-input-32-f28f8e9aab1e>\u001b[0m in \u001b[0;36m<module>\u001b[0;34m\u001b[0m\n\u001b[0;32m----> 1\u001b[0;31m \u001b[0mtwint\u001b[0m\u001b[0;34m.\u001b[0m\u001b[0mrun\u001b[0m\u001b[0;34m.\u001b[0m\u001b[0mSearch\u001b[0m\u001b[0;34m(\u001b[0m\u001b[0mc\u001b[0m\u001b[0;34m)\u001b[0m\u001b[0;34m\u001b[0m\u001b[0;34m\u001b[0m\u001b[0m\n\u001b[0m",
      "\u001b[0;32m/usr/local/lib/python3.6/site-packages/twint/run.py\u001b[0m in \u001b[0;36mSearch\u001b[0;34m(config, callback)\u001b[0m\n\u001b[1;32m    425\u001b[0m     \u001b[0mconfig\u001b[0m\u001b[0;34m.\u001b[0m\u001b[0mProfile\u001b[0m \u001b[0;34m=\u001b[0m \u001b[0;32mFalse\u001b[0m\u001b[0;34m\u001b[0m\u001b[0;34m\u001b[0m\u001b[0m\n\u001b[1;32m    426\u001b[0m     \u001b[0mconfig\u001b[0m\u001b[0;34m.\u001b[0m\u001b[0mProfile_full\u001b[0m \u001b[0;34m=\u001b[0m \u001b[0;32mFalse\u001b[0m\u001b[0;34m\u001b[0m\u001b[0;34m\u001b[0m\u001b[0m\n\u001b[0;32m--> 427\u001b[0;31m     \u001b[0mrun\u001b[0m\u001b[0;34m(\u001b[0m\u001b[0mconfig\u001b[0m\u001b[0;34m,\u001b[0m \u001b[0mcallback\u001b[0m\u001b[0;34m)\u001b[0m\u001b[0;34m\u001b[0m\u001b[0;34m\u001b[0m\u001b[0m\n\u001b[0m\u001b[1;32m    428\u001b[0m     \u001b[0;32mif\u001b[0m \u001b[0mconfig\u001b[0m\u001b[0;34m.\u001b[0m\u001b[0mPandas_au\u001b[0m\u001b[0;34m:\u001b[0m\u001b[0;34m\u001b[0m\u001b[0;34m\u001b[0m\u001b[0m\n\u001b[1;32m    429\u001b[0m         \u001b[0mstorage\u001b[0m\u001b[0;34m.\u001b[0m\u001b[0mpanda\u001b[0m\u001b[0;34m.\u001b[0m\u001b[0m_autoget\u001b[0m\u001b[0;34m(\u001b[0m\u001b[0;34m\"tweet\"\u001b[0m\u001b[0;34m)\u001b[0m\u001b[0;34m\u001b[0m\u001b[0;34m\u001b[0m\u001b[0m\n",
      "\u001b[0;32m/usr/local/lib/python3.6/site-packages/twint/run.py\u001b[0m in \u001b[0;36mrun\u001b[0;34m(config, callback)\u001b[0m\n\u001b[1;32m    317\u001b[0m         \u001b[0;32mraise\u001b[0m\u001b[0;34m\u001b[0m\u001b[0;34m\u001b[0m\u001b[0m\n\u001b[1;32m    318\u001b[0m \u001b[0;34m\u001b[0m\u001b[0m\n\u001b[0;32m--> 319\u001b[0;31m     \u001b[0mget_event_loop\u001b[0m\u001b[0;34m(\u001b[0m\u001b[0;34m)\u001b[0m\u001b[0;34m.\u001b[0m\u001b[0mrun_until_complete\u001b[0m\u001b[0;34m(\u001b[0m\u001b[0mTwint\u001b[0m\u001b[0;34m(\u001b[0m\u001b[0mconfig\u001b[0m\u001b[0;34m)\u001b[0m\u001b[0;34m.\u001b[0m\u001b[0mmain\u001b[0m\u001b[0;34m(\u001b[0m\u001b[0mcallback\u001b[0m\u001b[0;34m)\u001b[0m\u001b[0;34m)\u001b[0m\u001b[0;34m\u001b[0m\u001b[0;34m\u001b[0m\u001b[0m\n\u001b[0m\u001b[1;32m    320\u001b[0m \u001b[0;34m\u001b[0m\u001b[0m\n\u001b[1;32m    321\u001b[0m \u001b[0;34m\u001b[0m\u001b[0m\n",
      "\u001b[0;32m/usr/local/lib/python3.6/site-packages/nest_asyncio.py\u001b[0m in \u001b[0;36mrun_until_complete\u001b[0;34m(self, future)\u001b[0m\n\u001b[1;32m     87\u001b[0m                 \u001b[0mf\u001b[0m\u001b[0;34m.\u001b[0m\u001b[0m_log_destroy_pending\u001b[0m \u001b[0;34m=\u001b[0m \u001b[0;32mFalse\u001b[0m\u001b[0;34m\u001b[0m\u001b[0;34m\u001b[0m\u001b[0m\n\u001b[1;32m     88\u001b[0m             \u001b[0;32mwhile\u001b[0m \u001b[0;32mnot\u001b[0m \u001b[0mf\u001b[0m\u001b[0;34m.\u001b[0m\u001b[0mdone\u001b[0m\u001b[0;34m(\u001b[0m\u001b[0;34m)\u001b[0m\u001b[0;34m:\u001b[0m\u001b[0;34m\u001b[0m\u001b[0;34m\u001b[0m\u001b[0m\n\u001b[0;32m---> 89\u001b[0;31m                 \u001b[0mself\u001b[0m\u001b[0;34m.\u001b[0m\u001b[0m_run_once\u001b[0m\u001b[0;34m(\u001b[0m\u001b[0;34m)\u001b[0m\u001b[0;34m\u001b[0m\u001b[0;34m\u001b[0m\u001b[0m\n\u001b[0m\u001b[1;32m     90\u001b[0m                 \u001b[0;32mif\u001b[0m \u001b[0mself\u001b[0m\u001b[0;34m.\u001b[0m\u001b[0m_stopping\u001b[0m\u001b[0;34m:\u001b[0m\u001b[0;34m\u001b[0m\u001b[0;34m\u001b[0m\u001b[0m\n\u001b[1;32m     91\u001b[0m                     \u001b[0;32mbreak\u001b[0m\u001b[0;34m\u001b[0m\u001b[0;34m\u001b[0m\u001b[0m\n",
      "\u001b[0;32m/usr/local/lib/python3.6/site-packages/nest_asyncio.py\u001b[0m in \u001b[0;36m_run_once\u001b[0;34m(self)\u001b[0m\n\u001b[1;32m    114\u001b[0m         \u001b[0;32melse\u001b[0m\u001b[0;34m:\u001b[0m\u001b[0;34m\u001b[0m\u001b[0;34m\u001b[0m\u001b[0m\n\u001b[1;32m    115\u001b[0m             \u001b[0mtimeout\u001b[0m \u001b[0;34m=\u001b[0m \u001b[0;32mNone\u001b[0m\u001b[0;34m\u001b[0m\u001b[0;34m\u001b[0m\u001b[0m\n\u001b[0;32m--> 116\u001b[0;31m         \u001b[0mevent_list\u001b[0m \u001b[0;34m=\u001b[0m \u001b[0mself\u001b[0m\u001b[0;34m.\u001b[0m\u001b[0m_selector\u001b[0m\u001b[0;34m.\u001b[0m\u001b[0mselect\u001b[0m\u001b[0;34m(\u001b[0m\u001b[0mtimeout\u001b[0m\u001b[0;34m)\u001b[0m\u001b[0;34m\u001b[0m\u001b[0;34m\u001b[0m\u001b[0m\n\u001b[0m\u001b[1;32m    117\u001b[0m         \u001b[0mself\u001b[0m\u001b[0;34m.\u001b[0m\u001b[0m_process_events\u001b[0m\u001b[0;34m(\u001b[0m\u001b[0mevent_list\u001b[0m\u001b[0;34m)\u001b[0m\u001b[0;34m\u001b[0m\u001b[0;34m\u001b[0m\u001b[0m\n\u001b[1;32m    118\u001b[0m \u001b[0;34m\u001b[0m\u001b[0m\n",
      "\u001b[0;32m/usr/local/lib/python3.6/selectors.py\u001b[0m in \u001b[0;36mselect\u001b[0;34m(self, timeout)\u001b[0m\n\u001b[1;32m    443\u001b[0m             \u001b[0mready\u001b[0m \u001b[0;34m=\u001b[0m \u001b[0;34m[\u001b[0m\u001b[0;34m]\u001b[0m\u001b[0;34m\u001b[0m\u001b[0;34m\u001b[0m\u001b[0m\n\u001b[1;32m    444\u001b[0m             \u001b[0;32mtry\u001b[0m\u001b[0;34m:\u001b[0m\u001b[0;34m\u001b[0m\u001b[0;34m\u001b[0m\u001b[0m\n\u001b[0;32m--> 445\u001b[0;31m                 \u001b[0mfd_event_list\u001b[0m \u001b[0;34m=\u001b[0m \u001b[0mself\u001b[0m\u001b[0;34m.\u001b[0m\u001b[0m_epoll\u001b[0m\u001b[0;34m.\u001b[0m\u001b[0mpoll\u001b[0m\u001b[0;34m(\u001b[0m\u001b[0mtimeout\u001b[0m\u001b[0;34m,\u001b[0m \u001b[0mmax_ev\u001b[0m\u001b[0;34m)\u001b[0m\u001b[0;34m\u001b[0m\u001b[0;34m\u001b[0m\u001b[0m\n\u001b[0m\u001b[1;32m    446\u001b[0m             \u001b[0;32mexcept\u001b[0m \u001b[0mInterruptedError\u001b[0m\u001b[0;34m:\u001b[0m\u001b[0;34m\u001b[0m\u001b[0;34m\u001b[0m\u001b[0m\n\u001b[1;32m    447\u001b[0m                 \u001b[0;32mreturn\u001b[0m \u001b[0mready\u001b[0m\u001b[0;34m\u001b[0m\u001b[0;34m\u001b[0m\u001b[0m\n",
      "\u001b[0;31mKeyboardInterrupt\u001b[0m: "
     ]
    }
   ],
   "source": [
    "twint.run.Search(c)"
   ]
  },
  {
   "source": [
    "## READ TEST"
   ],
   "cell_type": "markdown",
   "metadata": {}
  },
  {
   "cell_type": "code",
   "execution_count": 33,
   "metadata": {},
   "outputs": [],
   "source": [
    "tweets = pd.read_csv('./pisorgpl_profile.csv')"
   ]
  },
  {
   "cell_type": "code",
   "execution_count": 34,
   "metadata": {},
   "outputs": [
    {
     "output_type": "execute_result",
     "data": {
      "text/plain": [
       "                    id      conversation_id               created_at  \\\n",
       "0  1317105252898951169  1317105252898951169  2020-10-16 14:08:57 UTC   \n",
       "1  1317070751418191873  1317070751418191873  2020-10-16 11:51:51 UTC   \n",
       "2  1317031446603812865  1317031446603812865  2020-10-16 09:15:40 UTC   \n",
       "3  1316991805704097795  1316991805704097795  2020-10-16 06:38:09 UTC   \n",
       "4  1316969732403245057  1316969732403245057  2020-10-16 05:10:26 UTC   \n",
       "\n",
       "         date      time  timezone   user_id  username                    name  \\\n",
       "0  2020-10-16  14:08:57         0  15877628  pisorgpl  Prawo i Sprawiedliwość   \n",
       "1  2020-10-16  11:51:51         0  15877628  pisorgpl  Prawo i Sprawiedliwość   \n",
       "2  2020-10-16  09:15:40         0  15877628  pisorgpl  Prawo i Sprawiedliwość   \n",
       "3  2020-10-16  06:38:09         0  15877628  pisorgpl  Prawo i Sprawiedliwość   \n",
       "4  2020-10-16  05:10:26         0  15877628  pisorgpl  Prawo i Sprawiedliwość   \n",
       "\n",
       "   place  ... geo source   user_rt_id  \\\n",
       "0    NaN  ... NaN    NaN          NaN   \n",
       "1    NaN  ... NaN    NaN          NaN   \n",
       "2    NaN  ... NaN    NaN   57626153.0   \n",
       "3    NaN  ... NaN    NaN  121679076.0   \n",
       "4    NaN  ... NaN    NaN          NaN   \n",
       "\n",
       "                                             user_rt    retweet_id  reply_to  \\\n",
       "0                                                NaN           NaN        []   \n",
       "1                                                NaN           NaN        []   \n",
       "2  🔴Limity dotyczące osób w sklepach w strefach c...  1.317031e+18        []   \n",
       "3  Limity dotyczące osób w sklepach w strefach cz...  1.316991e+18        []   \n",
       "4                                                NaN           NaN        []   \n",
       "\n",
       "              retweet_date  translate trans_src trans_dest  \n",
       "0                      NaN        NaN       NaN        NaN  \n",
       "1                      NaN        NaN       NaN        NaN  \n",
       "2  2020-10-16 09:15:30 UTC        NaN       NaN        NaN  \n",
       "3  2020-10-16 06:32:58 UTC        NaN       NaN        NaN  \n",
       "4                      NaN        NaN       NaN        NaN  \n",
       "\n",
       "[5 rows x 36 columns]"
      ],
      "text/html": "<div>\n<style scoped>\n    .dataframe tbody tr th:only-of-type {\n        vertical-align: middle;\n    }\n\n    .dataframe tbody tr th {\n        vertical-align: top;\n    }\n\n    .dataframe thead th {\n        text-align: right;\n    }\n</style>\n<table border=\"1\" class=\"dataframe\">\n  <thead>\n    <tr style=\"text-align: right;\">\n      <th></th>\n      <th>id</th>\n      <th>conversation_id</th>\n      <th>created_at</th>\n      <th>date</th>\n      <th>time</th>\n      <th>timezone</th>\n      <th>user_id</th>\n      <th>username</th>\n      <th>name</th>\n      <th>place</th>\n      <th>...</th>\n      <th>geo</th>\n      <th>source</th>\n      <th>user_rt_id</th>\n      <th>user_rt</th>\n      <th>retweet_id</th>\n      <th>reply_to</th>\n      <th>retweet_date</th>\n      <th>translate</th>\n      <th>trans_src</th>\n      <th>trans_dest</th>\n    </tr>\n  </thead>\n  <tbody>\n    <tr>\n      <th>0</th>\n      <td>1317105252898951169</td>\n      <td>1317105252898951169</td>\n      <td>2020-10-16 14:08:57 UTC</td>\n      <td>2020-10-16</td>\n      <td>14:08:57</td>\n      <td>0</td>\n      <td>15877628</td>\n      <td>pisorgpl</td>\n      <td>Prawo i Sprawiedliwość</td>\n      <td>NaN</td>\n      <td>...</td>\n      <td>NaN</td>\n      <td>NaN</td>\n      <td>NaN</td>\n      <td>NaN</td>\n      <td>NaN</td>\n      <td>[]</td>\n      <td>NaN</td>\n      <td>NaN</td>\n      <td>NaN</td>\n      <td>NaN</td>\n    </tr>\n    <tr>\n      <th>1</th>\n      <td>1317070751418191873</td>\n      <td>1317070751418191873</td>\n      <td>2020-10-16 11:51:51 UTC</td>\n      <td>2020-10-16</td>\n      <td>11:51:51</td>\n      <td>0</td>\n      <td>15877628</td>\n      <td>pisorgpl</td>\n      <td>Prawo i Sprawiedliwość</td>\n      <td>NaN</td>\n      <td>...</td>\n      <td>NaN</td>\n      <td>NaN</td>\n      <td>NaN</td>\n      <td>NaN</td>\n      <td>NaN</td>\n      <td>[]</td>\n      <td>NaN</td>\n      <td>NaN</td>\n      <td>NaN</td>\n      <td>NaN</td>\n    </tr>\n    <tr>\n      <th>2</th>\n      <td>1317031446603812865</td>\n      <td>1317031446603812865</td>\n      <td>2020-10-16 09:15:40 UTC</td>\n      <td>2020-10-16</td>\n      <td>09:15:40</td>\n      <td>0</td>\n      <td>15877628</td>\n      <td>pisorgpl</td>\n      <td>Prawo i Sprawiedliwość</td>\n      <td>NaN</td>\n      <td>...</td>\n      <td>NaN</td>\n      <td>NaN</td>\n      <td>57626153.0</td>\n      <td>🔴Limity dotyczące osób w sklepach w strefach c...</td>\n      <td>1.317031e+18</td>\n      <td>[]</td>\n      <td>2020-10-16 09:15:30 UTC</td>\n      <td>NaN</td>\n      <td>NaN</td>\n      <td>NaN</td>\n    </tr>\n    <tr>\n      <th>3</th>\n      <td>1316991805704097795</td>\n      <td>1316991805704097795</td>\n      <td>2020-10-16 06:38:09 UTC</td>\n      <td>2020-10-16</td>\n      <td>06:38:09</td>\n      <td>0</td>\n      <td>15877628</td>\n      <td>pisorgpl</td>\n      <td>Prawo i Sprawiedliwość</td>\n      <td>NaN</td>\n      <td>...</td>\n      <td>NaN</td>\n      <td>NaN</td>\n      <td>121679076.0</td>\n      <td>Limity dotyczące osób w sklepach w strefach cz...</td>\n      <td>1.316991e+18</td>\n      <td>[]</td>\n      <td>2020-10-16 06:32:58 UTC</td>\n      <td>NaN</td>\n      <td>NaN</td>\n      <td>NaN</td>\n    </tr>\n    <tr>\n      <th>4</th>\n      <td>1316969732403245057</td>\n      <td>1316969732403245057</td>\n      <td>2020-10-16 05:10:26 UTC</td>\n      <td>2020-10-16</td>\n      <td>05:10:26</td>\n      <td>0</td>\n      <td>15877628</td>\n      <td>pisorgpl</td>\n      <td>Prawo i Sprawiedliwość</td>\n      <td>NaN</td>\n      <td>...</td>\n      <td>NaN</td>\n      <td>NaN</td>\n      <td>NaN</td>\n      <td>NaN</td>\n      <td>NaN</td>\n      <td>[]</td>\n      <td>NaN</td>\n      <td>NaN</td>\n      <td>NaN</td>\n      <td>NaN</td>\n    </tr>\n  </tbody>\n</table>\n<p>5 rows × 36 columns</p>\n</div>"
     },
     "metadata": {},
     "execution_count": 34
    }
   ],
   "source": [
    "tweets.head()"
   ]
  },
  {
   "cell_type": "code",
   "execution_count": 35,
   "metadata": {},
   "outputs": [
    {
     "output_type": "stream",
     "name": "stdout",
     "text": [
      "<class 'pandas.core.frame.DataFrame'>\nRangeIndex: 6350 entries, 0 to 6349\nData columns (total 36 columns):\n #   Column           Non-Null Count  Dtype  \n---  ------           --------------  -----  \n 0   id               6350 non-null   int64  \n 1   conversation_id  6350 non-null   int64  \n 2   created_at       6350 non-null   object \n 3   date             6350 non-null   object \n 4   time             6350 non-null   object \n 5   timezone         6350 non-null   int64  \n 6   user_id          6350 non-null   int64  \n 7   username         6350 non-null   object \n 8   name             6350 non-null   object \n 9   place            0 non-null      float64\n 10  tweet            6350 non-null   object \n 11  language         6350 non-null   object \n 12  mentions         6350 non-null   object \n 13  urls             6350 non-null   object \n 14  photos           6350 non-null   object \n 15  replies_count    6350 non-null   int64  \n 16  retweets_count   6350 non-null   int64  \n 17  likes_count      6350 non-null   int64  \n 18  hashtags         6350 non-null   object \n 19  cashtags         6350 non-null   object \n 20  link             6350 non-null   object \n 21  retweet          6350 non-null   bool   \n 22  quote_url        6350 non-null   object \n 23  video            6350 non-null   int64  \n 24  thumbnail        1611 non-null   object \n 25  near             0 non-null      float64\n 26  geo              0 non-null      float64\n 27  source           0 non-null      float64\n 28  user_rt_id       2379 non-null   float64\n 29  user_rt          2379 non-null   object \n 30  retweet_id       2379 non-null   float64\n 31  reply_to         6350 non-null   object \n 32  retweet_date     2379 non-null   object \n 33  translate        0 non-null      float64\n 34  trans_src        0 non-null      float64\n 35  trans_dest       0 non-null      float64\ndtypes: bool(1), float64(9), int64(8), object(18)\nmemory usage: 1.7+ MB\n"
     ]
    }
   ],
   "source": [
    "tweets.info()"
   ]
  },
  {
   "cell_type": "code",
   "execution_count": 38,
   "metadata": {},
   "outputs": [
    {
     "output_type": "execute_result",
     "data": {
      "text/plain": [
       "      username                                              tweet  retweet  \\\n",
       "0     pisorgpl  Politycy #PiS dziś (16.10) w mediach:\\n17:30 @...    False   \n",
       "1     pisorgpl  Trwa Gospodarczy Sztab Kryzysowy w formule wid...    False   \n",
       "2     pisorgpl  RT @PremierRP: 🔴Limity dotyczące osób w sklepa...     True   \n",
       "3     pisorgpl  RT @PiotrMuller: Limity dotyczące osób w sklep...     True   \n",
       "4     pisorgpl  🕊Dzień Papieża Jana Pawła II. #Pamiętamy\\n🗓 Dz...    False   \n",
       "...        ...                                                ...      ...   \n",
       "6345  pisorgpl  RT @PremierRP: Złożenie wieńców pod Pomnikiem ...     True   \n",
       "6346  pisorgpl  RT @PremierRP: Premier @MorawieckiM w #Wieluń:...     True   \n",
       "6347  pisorgpl  RT @PremierRP: Premier @MorawieckiM w #Wieluń:...     True   \n",
       "6348  pisorgpl  Cześć i chwała Bohaterom! #Westerplatte #Wrzes...    False   \n",
       "6349  pisorgpl  RT @PremierRP: W #Wieluń premier @MorawieckiM ...     True   \n",
       "\n",
       "       user_rt_id  \n",
       "0             NaN  \n",
       "1             NaN  \n",
       "2      57626153.0  \n",
       "3     121679076.0  \n",
       "4             NaN  \n",
       "...           ...  \n",
       "6345   57626153.0  \n",
       "6346   57626153.0  \n",
       "6347   57626153.0  \n",
       "6348          NaN  \n",
       "6349   57626153.0  \n",
       "\n",
       "[6350 rows x 4 columns]"
      ],
      "text/html": "<div>\n<style scoped>\n    .dataframe tbody tr th:only-of-type {\n        vertical-align: middle;\n    }\n\n    .dataframe tbody tr th {\n        vertical-align: top;\n    }\n\n    .dataframe thead th {\n        text-align: right;\n    }\n</style>\n<table border=\"1\" class=\"dataframe\">\n  <thead>\n    <tr style=\"text-align: right;\">\n      <th></th>\n      <th>username</th>\n      <th>tweet</th>\n      <th>retweet</th>\n      <th>user_rt_id</th>\n    </tr>\n  </thead>\n  <tbody>\n    <tr>\n      <th>0</th>\n      <td>pisorgpl</td>\n      <td>Politycy #PiS dziś (16.10) w mediach:\\n17:30 @...</td>\n      <td>False</td>\n      <td>NaN</td>\n    </tr>\n    <tr>\n      <th>1</th>\n      <td>pisorgpl</td>\n      <td>Trwa Gospodarczy Sztab Kryzysowy w formule wid...</td>\n      <td>False</td>\n      <td>NaN</td>\n    </tr>\n    <tr>\n      <th>2</th>\n      <td>pisorgpl</td>\n      <td>RT @PremierRP: 🔴Limity dotyczące osób w sklepa...</td>\n      <td>True</td>\n      <td>57626153.0</td>\n    </tr>\n    <tr>\n      <th>3</th>\n      <td>pisorgpl</td>\n      <td>RT @PiotrMuller: Limity dotyczące osób w sklep...</td>\n      <td>True</td>\n      <td>121679076.0</td>\n    </tr>\n    <tr>\n      <th>4</th>\n      <td>pisorgpl</td>\n      <td>🕊Dzień Papieża Jana Pawła II. #Pamiętamy\\n🗓 Dz...</td>\n      <td>False</td>\n      <td>NaN</td>\n    </tr>\n    <tr>\n      <th>...</th>\n      <td>...</td>\n      <td>...</td>\n      <td>...</td>\n      <td>...</td>\n    </tr>\n    <tr>\n      <th>6345</th>\n      <td>pisorgpl</td>\n      <td>RT @PremierRP: Złożenie wieńców pod Pomnikiem ...</td>\n      <td>True</td>\n      <td>57626153.0</td>\n    </tr>\n    <tr>\n      <th>6346</th>\n      <td>pisorgpl</td>\n      <td>RT @PremierRP: Premier @MorawieckiM w #Wieluń:...</td>\n      <td>True</td>\n      <td>57626153.0</td>\n    </tr>\n    <tr>\n      <th>6347</th>\n      <td>pisorgpl</td>\n      <td>RT @PremierRP: Premier @MorawieckiM w #Wieluń:...</td>\n      <td>True</td>\n      <td>57626153.0</td>\n    </tr>\n    <tr>\n      <th>6348</th>\n      <td>pisorgpl</td>\n      <td>Cześć i chwała Bohaterom! #Westerplatte #Wrzes...</td>\n      <td>False</td>\n      <td>NaN</td>\n    </tr>\n    <tr>\n      <th>6349</th>\n      <td>pisorgpl</td>\n      <td>RT @PremierRP: W #Wieluń premier @MorawieckiM ...</td>\n      <td>True</td>\n      <td>57626153.0</td>\n    </tr>\n  </tbody>\n</table>\n<p>6350 rows × 4 columns</p>\n</div>"
     },
     "metadata": {},
     "execution_count": 38
    }
   ],
   "source": [
    "tweets[['username', 'tweet', 'retweet', 'user_rt_id']]"
   ]
  }
 ]
}