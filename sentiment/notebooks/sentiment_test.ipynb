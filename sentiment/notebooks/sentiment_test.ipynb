{
 "metadata": {
  "language_info": {
   "codemirror_mode": {
    "name": "ipython",
    "version": 3
   },
   "file_extension": ".py",
   "mimetype": "text/x-python",
   "name": "python",
   "nbconvert_exporter": "python",
   "pygments_lexer": "ipython3",
   "version": "3.8.5-final"
  },
  "orig_nbformat": 2,
  "kernelspec": {
   "name": "python3",
   "display_name": "Python 3"
  }
 },
 "nbformat": 4,
 "nbformat_minor": 2,
 "cells": [
  {
   "cell_type": "code",
   "execution_count": 1,
   "metadata": {},
   "outputs": [],
   "source": [
    "from polyglot.text import Text\n",
    "import pandas as pd\n",
    "from tqdm import tqdm"
   ]
  },
  {
   "cell_type": "code",
   "execution_count": 2,
   "metadata": {},
   "outputs": [],
   "source": [
    "tqdm.pandas()"
   ]
  },
  {
   "cell_type": "code",
   "execution_count": 3,
   "metadata": {},
   "outputs": [],
   "source": [
    "data = pd.read_csv('./__Lewica_profile.csv')"
   ]
  },
  {
   "cell_type": "code",
   "execution_count": 4,
   "metadata": {},
   "outputs": [
    {
     "output_type": "stream",
     "name": "stdout",
     "text": [
      "<class 'pandas.core.frame.DataFrame'>\nRangeIndex: 1495 entries, 0 to 1494\nData columns (total 36 columns):\n #   Column           Non-Null Count  Dtype  \n---  ------           --------------  -----  \n 0   id               1495 non-null   int64  \n 1   conversation_id  1495 non-null   int64  \n 2   created_at       1495 non-null   object \n 3   date             1495 non-null   object \n 4   time             1495 non-null   object \n 5   timezone         1495 non-null   int64  \n 6   user_id          1495 non-null   int64  \n 7   username         1495 non-null   object \n 8   name             1495 non-null   object \n 9   place            0 non-null      float64\n 10  tweet            1495 non-null   object \n 11  language         1495 non-null   object \n 12  mentions         1495 non-null   object \n 13  urls             1495 non-null   object \n 14  photos           1495 non-null   object \n 15  replies_count    1495 non-null   int64  \n 16  retweets_count   1495 non-null   int64  \n 17  likes_count      1495 non-null   int64  \n 18  hashtags         1495 non-null   object \n 19  cashtags         1495 non-null   object \n 20  link             1495 non-null   object \n 21  retweet          1495 non-null   bool   \n 22  quote_url        1495 non-null   object \n 23  video            1495 non-null   int64  \n 24  thumbnail        351 non-null    object \n 25  near             0 non-null      float64\n 26  geo              0 non-null      float64\n 27  source           0 non-null      float64\n 28  user_rt_id       731 non-null    float64\n 29  user_rt          731 non-null    object \n 30  retweet_id       731 non-null    float64\n 31  reply_to         1495 non-null   object \n 32  retweet_date     731 non-null    object \n 33  translate        0 non-null      float64\n 34  trans_src        0 non-null      float64\n 35  trans_dest       0 non-null      float64\ndtypes: bool(1), float64(9), int64(8), object(18)\nmemory usage: 410.4+ KB\n"
     ]
    }
   ],
   "source": [
    "data.info()"
   ]
  },
  {
   "cell_type": "code",
   "execution_count": 5,
   "metadata": {},
   "outputs": [
    {
     "output_type": "execute_result",
     "data": {
      "text/plain": [
       "0    #LewicawMediach: @MarcinKulasek jutro o godz. ...\n",
       "1    RT @KarolinaPawli15: Presja ma sens, częściowe...\n",
       "2    #LewicawMediach: @KGawkowski jutro o godz. 9:0...\n",
       "3    RT @PolaMatysiak: Dziś kilka słów o transporci...\n",
       "4    RT @Lewica_News: GAWKOWSKI: Kiedy nawoływaliśm...\n",
       "Name: tweet, dtype: object"
      ]
     },
     "metadata": {},
     "execution_count": 5
    }
   ],
   "source": [
    "data['tweet'].head()"
   ]
  },
  {
   "cell_type": "code",
   "execution_count": 6,
   "metadata": {},
   "outputs": [],
   "source": [
    "text = Text(data['tweet'][300])"
   ]
  },
  {
   "cell_type": "code",
   "execution_count": 7,
   "metadata": {},
   "outputs": [
    {
     "output_type": "stream",
     "name": "stdout",
     "text": [
      "Word            Polarity\n------------------------------\n-                0\nZ                0\ndrugą            0\nfalą             0\npandemii         0\nczeka            0\nnas              0\nfala             0\nzwolnień        -1\ni                0\nkryzysu          0\ngospodarczego    0\n.                0\nDlatego          0\nprzedstawiliśmy  0\nrozwiązania      0\nna               0\nto               0\n,                0\njak              1\nmożna            0\nim               0\nzapobiec         0\n.                0\nOd               0\nministra         0\nfinansów         0\ni                0\npremiera         0\nusłyszeliśmy     0\n,                0\nże               0\npanikujemy       0\n.                0\nTylko            0\nnasze            0\nprognozy         0\nsię              0\nsprawdzają       0\n,                0\na                0\nrządu            0\nnie              0\n-                0\n@                0\nKGawkowski       0\nw                0\n@                0\nRadio_TOK_FM     0\n.                0\n"
     ]
    }
   ],
   "source": [
    "print(\"{:<16}{}\".format(\"Word\", \"Polarity\")+\"\\n\"+\"-\"*30)\n",
    "for w in text.words:\n",
    "    print(\"{:<16}{:>2}\".format(w, w.polarity))"
   ]
  },
  {
   "cell_type": "code",
   "execution_count": 8,
   "metadata": {},
   "outputs": [
    {
     "output_type": "execute_result",
     "data": {
      "text/plain": [
       "0.0"
      ]
     },
     "metadata": {},
     "execution_count": 8
    }
   ],
   "source": [
    "text.polarity"
   ]
  },
  {
   "cell_type": "code",
   "execution_count": 9,
   "metadata": {},
   "outputs": [],
   "source": [
    "def get_polarity(row):\n",
    "    try:\n",
    "        polarity = Text(row['tweet']).polarity\n",
    "    except ValueError:\n",
    "        polarity = 0\n",
    "\n",
    "    return polarity"
   ]
  },
  {
   "cell_type": "code",
   "execution_count": 10,
   "metadata": {},
   "outputs": [
    {
     "output_type": "stream",
     "name": "stderr",
     "text": [
      "100%|██████████| 1495/1495 [00:00<00:00, 1796.63it/s]\n"
     ]
    }
   ],
   "source": [
    "data['polarity'] = data.progress_apply(get_polarity, axis=1)"
   ]
  },
  {
   "cell_type": "code",
   "execution_count": 11,
   "metadata": {},
   "outputs": [
    {
     "output_type": "execute_result",
     "data": {
      "text/plain": [
       "                                                  tweet  polarity\n",
       "1485  RT @KrutulPawel: Tak jak obiecałem, tak zrobił...       1.0\n",
       "1486  .@wieczorekdarek: O jakich funduszach jeśli ch...       1.0\n",
       "1487  RT @DStanderski: I chwilę później odwołano kom...       1.0\n",
       "1488  RT @DStanderski: Dzisiaj o 19:00 I czytanie pr...       0.0\n",
       "1489  RT @MarcinKulasek: 🎙 Najważniejszą rzeczą jest...       0.0\n",
       "1490  RT @MarcinKulasek: 🎙 Póki co rekonstrukcja rzą...       0.0\n",
       "1491  RT @MarcinKulasek: 🎙 Przypomnę, że następne wy...       0.0\n",
       "1492  💬#Lewica złożyła projekt ustawy o Rzeczniku Pr...       0.0\n",
       "1493  💬 Jeżeli projekt @pisorgpl dot. ochrony zwierz...       0.0\n",
       "1494  💬Złożyliśmy 44 projekty ustaw dot. spraw gospo...       0.0"
      ],
      "text/html": "<div>\n<style scoped>\n    .dataframe tbody tr th:only-of-type {\n        vertical-align: middle;\n    }\n\n    .dataframe tbody tr th {\n        vertical-align: top;\n    }\n\n    .dataframe thead th {\n        text-align: right;\n    }\n</style>\n<table border=\"1\" class=\"dataframe\">\n  <thead>\n    <tr style=\"text-align: right;\">\n      <th></th>\n      <th>tweet</th>\n      <th>polarity</th>\n    </tr>\n  </thead>\n  <tbody>\n    <tr>\n      <th>1485</th>\n      <td>RT @KrutulPawel: Tak jak obiecałem, tak zrobił...</td>\n      <td>1.0</td>\n    </tr>\n    <tr>\n      <th>1486</th>\n      <td>.@wieczorekdarek: O jakich funduszach jeśli ch...</td>\n      <td>1.0</td>\n    </tr>\n    <tr>\n      <th>1487</th>\n      <td>RT @DStanderski: I chwilę później odwołano kom...</td>\n      <td>1.0</td>\n    </tr>\n    <tr>\n      <th>1488</th>\n      <td>RT @DStanderski: Dzisiaj o 19:00 I czytanie pr...</td>\n      <td>0.0</td>\n    </tr>\n    <tr>\n      <th>1489</th>\n      <td>RT @MarcinKulasek: 🎙 Najważniejszą rzeczą jest...</td>\n      <td>0.0</td>\n    </tr>\n    <tr>\n      <th>1490</th>\n      <td>RT @MarcinKulasek: 🎙 Póki co rekonstrukcja rzą...</td>\n      <td>0.0</td>\n    </tr>\n    <tr>\n      <th>1491</th>\n      <td>RT @MarcinKulasek: 🎙 Przypomnę, że następne wy...</td>\n      <td>0.0</td>\n    </tr>\n    <tr>\n      <th>1492</th>\n      <td>💬#Lewica złożyła projekt ustawy o Rzeczniku Pr...</td>\n      <td>0.0</td>\n    </tr>\n    <tr>\n      <th>1493</th>\n      <td>💬 Jeżeli projekt @pisorgpl dot. ochrony zwierz...</td>\n      <td>0.0</td>\n    </tr>\n    <tr>\n      <th>1494</th>\n      <td>💬Złożyliśmy 44 projekty ustaw dot. spraw gospo...</td>\n      <td>0.0</td>\n    </tr>\n  </tbody>\n</table>\n</div>"
     },
     "metadata": {},
     "execution_count": 11
    }
   ],
   "source": [
    "data[['tweet', 'polarity']].tail(10)"
   ]
  },
  {
   "cell_type": "code",
   "execution_count": 12,
   "metadata": {},
   "outputs": [
    {
     "output_type": "execute_result",
     "data": {
      "text/plain": [
       "count    1495.000000\n",
       "mean        0.044281\n",
       "std         0.448469\n",
       "min        -1.000000\n",
       "25%         0.000000\n",
       "50%         0.000000\n",
       "75%         0.000000\n",
       "max         1.000000\n",
       "Name: polarity, dtype: float64"
      ]
     },
     "metadata": {},
     "execution_count": 12
    }
   ],
   "source": [
    "data['polarity'].describe()"
   ]
  },
  {
   "cell_type": "code",
   "execution_count": 16,
   "metadata": {},
   "outputs": [
    {
     "output_type": "execute_result",
     "data": {
      "text/plain": [
       "4       RT @Lewica_News: GAWKOWSKI: Kiedy nawoływaliśm...\n",
       "9       RT @AgaBak: Za tydzień kontrolowany przez wład...\n",
       "18      RT @KUeberhan: Dopiero ryzyko przerwania posie...\n",
       "21      RT @KotulaKat: Zagubiony poseł @bwroblewski po...\n",
       "25      RT @AgaBak: Co zrobić z edukacją? \\nTo:\\n\\n➡️ ...\n",
       "                              ...                        \n",
       "1476    Nie będzie się nam to podobało - wyjdziemy pro...\n",
       "1477    Sędziowie będą wsadzali do więzień według zasł...\n",
       "1478    Urzędnicy będą załatwiali sprawy członków @pis...\n",
       "1480    Kupią za 150 milionów respiratory bez atestów ...\n",
       "1484    Art.10d. - \"Nie popełnia przestępstwa, kto w c...\n",
       "Name: tweet, Length: 129, dtype: object"
      ]
     },
     "metadata": {},
     "execution_count": 16
    }
   ],
   "source": [
    "data[data['polarity'] < 0]['tweet']"
   ]
  },
  {
   "cell_type": "code",
   "execution_count": 17,
   "metadata": {},
   "outputs": [],
   "source": [
    "data.to_csv('./__Lewica_profile.csv')"
   ]
  },
  {
   "cell_type": "code",
   "execution_count": 18,
   "metadata": {},
   "outputs": [],
   "source": [
    "data2 = pd.read_csv('./__Lewica_profile.csv')"
   ]
  },
  {
   "cell_type": "code",
   "execution_count": 19,
   "metadata": {},
   "outputs": [
    {
     "output_type": "execute_result",
     "data": {
      "text/plain": [
       "                                               tweet  polarity\n",
       "0  #LewicawMediach: @MarcinKulasek jutro o godz. ...       0.0\n",
       "1  RT @KarolinaPawli15: Presja ma sens, częściowe...       1.0\n",
       "2  #LewicawMediach: @KGawkowski jutro o godz. 9:0...       0.0"
      ],
      "text/html": "<div>\n<style scoped>\n    .dataframe tbody tr th:only-of-type {\n        vertical-align: middle;\n    }\n\n    .dataframe tbody tr th {\n        vertical-align: top;\n    }\n\n    .dataframe thead th {\n        text-align: right;\n    }\n</style>\n<table border=\"1\" class=\"dataframe\">\n  <thead>\n    <tr style=\"text-align: right;\">\n      <th></th>\n      <th>tweet</th>\n      <th>polarity</th>\n    </tr>\n  </thead>\n  <tbody>\n    <tr>\n      <th>0</th>\n      <td>#LewicawMediach: @MarcinKulasek jutro o godz. ...</td>\n      <td>0.0</td>\n    </tr>\n    <tr>\n      <th>1</th>\n      <td>RT @KarolinaPawli15: Presja ma sens, częściowe...</td>\n      <td>1.0</td>\n    </tr>\n    <tr>\n      <th>2</th>\n      <td>#LewicawMediach: @KGawkowski jutro o godz. 9:0...</td>\n      <td>0.0</td>\n    </tr>\n  </tbody>\n</table>\n</div>"
     },
     "metadata": {},
     "execution_count": 19
    }
   ],
   "source": [
    "data2[['tweet', 'polarity']].head(3)"
   ]
  }
 ]
}